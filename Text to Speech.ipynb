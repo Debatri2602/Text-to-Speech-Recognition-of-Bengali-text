{
 "cells": [
  {
   "cell_type": "markdown",
   "id": "bdf573a9",
   "metadata": {},
   "source": [
    "# Bengali Text to Speech Recognition"
   ]
  },
  {
   "cell_type": "code",
   "execution_count": 1,
   "id": "923b4a0f",
   "metadata": {},
   "outputs": [],
   "source": [
    "from gtts import gTTS\n",
    "import playsound\n",
    "import os\n",
    "tts1 = gTTS(text= '''দূর হতে ভেবেছিনু মনে\n",
    "দুর্জয় নির্দয় তুমি, কাঁপে পৃথ্বী তোমার শাসনে।\n",
    "তুমি বিভীষিকা,\n",
    "দুঃখীর বিদীর্ণ বক্ষে জ্বলে তব লেলিহান শিখা।\n",
    "দক্ষিণ হাতের শেল উঠেছে ঝড়ের মেঘ-পানে,\n",
    "সেথা হতে বজ্র টেনে আনে।\n",
    "ভয়ে ভয়ে এসেছিনু দুরুদুরু বুকে\n",
    "তোমার সম্মুখে\n",
    "তোমার ভ্রূকুটিভঙ্গে তরঙ্গিল আসন্ন উৎপাত, —\n",
    "নামিল আঘাত।\n",
    "পাঁজর উঠিল কেঁপে,\n",
    "বক্ষে হাত চেপে\n",
    "শুধালেম, “আরো কিছু আছে নাকি,\n",
    "আছে বাকি\n",
    "শেষ বজ্রপাত?’\n",
    "নামিল আঘাত।\n",
    "এইমাত্র? আর কিছু নয়?\n",
    "ভেঙে গেল ভয়।\n",
    "যখন উদ্যত ছিল তোমার অশনি\n",
    "তোমারে আমার চেয়ে বড়ো ব’লে নিয়েছিনু গনি।\n",
    "তোমার আঘাত-সাথে নেমে এলে তুমি\n",
    "যেথা মোর আপনার ভূমি।\n",
    "ছোটো হয়ে গেছ আজ।\n",
    "আমার টুটিল সব লাজ।\n",
    "যত বড়ো হও,\n",
    "তুমি তো মৃত্যুর চেয়ে বড়ো নও।\n",
    "আমি মৃত্যু-চেয়ে বড়ো এই শেষ কথা বলে\n",
    "যাব আমি চলে।''', lang='bn')\n",
    "tts1.save(\"speech.mp3\")\n",
    "os.system(\"mpg321 speech.mp3\")\n",
    "playsound.playsound('speech.mp3', True)"
   ]
  },
  {
   "cell_type": "code",
   "execution_count": null,
   "id": "03dbee8f",
   "metadata": {},
   "outputs": [],
   "source": []
  }
 ],
 "metadata": {
  "kernelspec": {
   "display_name": "Python 3",
   "language": "python",
   "name": "python3"
  },
  "language_info": {
   "codemirror_mode": {
    "name": "ipython",
    "version": 3
   },
   "file_extension": ".py",
   "mimetype": "text/x-python",
   "name": "python",
   "nbconvert_exporter": "python",
   "pygments_lexer": "ipython3",
   "version": "3.8.8"
  }
 },
 "nbformat": 4,
 "nbformat_minor": 5
}
